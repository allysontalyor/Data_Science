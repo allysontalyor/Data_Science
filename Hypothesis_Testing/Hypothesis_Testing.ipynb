{
 "cells": [
  {
   "cell_type": "code",
   "execution_count": 1,
   "id": "39d00f96-fc24-41e0-810c-fd1e1d3c9447",
   "metadata": {},
   "outputs": [],
   "source": [
    "import pandas as pd\n",
    "import numpy as np\n",
    "import scipy.stats as stats\n",
    "import matplotlib.pyplot as plt\n",
    "import math"
   ]
  },
  {
   "cell_type": "markdown",
   "id": "118d4eba-d661-43e8-90c1-1ecb90e6a35f",
   "metadata": {},
   "source": [
    "# Null Hypothesis\n",
    "\n",
    "* Assumption that the sample data that you have is from the population you are comparing it to\n",
    "* Null Hypothesis states that there is no difference between the sample data and the population it is being compared against"
   ]
  },
  {
   "cell_type": "markdown",
   "id": "0ef82d3b-cdc4-428b-98e8-9aa9987e490a",
   "metadata": {},
   "source": [
    "# Significance Level\n",
    "* Denoted by the greek letter $\\alpha$\n",
    "* Best (most common) practice is 95%, but a higher or lower value may be appropriate depending on what is being tested and associated risk factors\n",
    "* This value is used to set standards to accept or reject the null hypothesis"
   ]
  },
  {
   "cell_type": "markdown",
   "id": "bb20a886-4638-4049-a084-e0b2937715ee",
   "metadata": {},
   "source": [
    "# One Sample T-Test\n",
    "* description 1: determines whether a sample mean differs from the population mean\n",
    "* description 2: determines whether a sample differs from a known value or standard\n",
    "  * An example of this in chemisty is when a standard is measured in lab and compared to a stated value\n",
    "* Conditions:\n",
    "  * dependent variable should be measured at the interval (ordered data) or ratio (has a true zero, continuous equidistant scale, and shows order, direction, and precise difference in values) level\n",
    "  * The data should be independent\n",
    "  * There should be no significant outliers\n",
    "  * The dependent variable should be normally distributed"
   ]
  },
  {
   "cell_type": "code",
   "execution_count": 5,
   "id": "73a948cf-0c9c-4fe3-afa8-f3ae4cfba714",
   "metadata": {},
   "outputs": [
    {
     "name": "stdout",
     "output_type": "stream",
     "text": [
      "43.000112\n",
      "39.26\n"
     ]
    }
   ],
   "source": [
    "np.random.seed(6)\n",
    "\n",
    "population_ages1 = stats.poisson.rvs(loc=18, mu=35, size=150000)\n",
    "population_ages2 = stats.poisson.rvs(loc=18, mu=10, size=100000)\n",
    "population_ages = np.concatenate((population_ages1, population_ages2))\n",
    "\n",
    "minnesota_ages1 = stats.poisson.rvs(loc=18, mu=30, size=30)\n",
    "minnesota_ages2 = stats.poisson.rvs(loc=18, mu=10, size=20)\n",
    "minnesota_ages = np.concatenate((minnesota_ages1, minnesota_ages2))\n",
    "\n",
    "print(population_ages.mean())\n",
    "print(minnesota_ages.mean())"
   ]
  },
  {
   "cell_type": "code",
   "execution_count": 6,
   "id": "5fe69cea-c07f-4628-bfdc-d788abffbe3e",
   "metadata": {},
   "outputs": [
    {
     "data": {
      "text/plain": [
       "TtestResult(statistic=-2.5742714883655027, pvalue=0.013118685425061675, df=49)"
      ]
     },
     "execution_count": 6,
     "metadata": {},
     "output_type": "execute_result"
    }
   ],
   "source": [
    "#statistic:how much our sample data differs from the population mean\n",
    "#pvalue: this means that the sample data represented would occur randomly 1.3% of the time (pvalue=0.013)\n",
    "#df: degrees of freedom (number of sample points - 1)\n",
    "stats.ttest_1samp(a=minnesota_ages, #sample data\n",
    "                  popmean=population_ages.mean()) #population mean"
   ]
  },
  {
   "cell_type": "code",
   "execution_count": 9,
   "id": "ab6ea557-67fb-42c4-bd08-430324d506a6",
   "metadata": {},
   "outputs": [
    {
     "data": {
      "text/plain": [
       "-2.0095752371292397"
      ]
     },
     "execution_count": 9,
     "metadata": {},
     "output_type": "execute_result"
    }
   ],
   "source": [
    "stats.t.ppf(q=0.025, df=49)"
   ]
  },
  {
   "cell_type": "markdown",
   "id": "e4c27b97-0128-49f7-83b6-7e4a88f98974",
   "metadata": {},
   "source": [
    "$t = \\Large\\frac{\\bar{x}-\\mu}{\\Large\\frac{s}{\\sqrt{n}}}$"
   ]
  },
  {
   "cell_type": "markdown",
   "id": "113f87c1-bc88-4e7f-9358-ddd4c9ddd0f8",
   "metadata": {},
   "source": [
    "## Variables\n",
    "* t is the test statistic\n",
    "* $\\bar{x}$ is the sample mean\n",
    "* $\\mu$ is the population mean\n",
    "* s is the standard deviation\n",
    "* n is the degrees of freedom"
   ]
  },
  {
   "cell_type": "code",
   "execution_count": null,
   "id": "e282e47d-4db9-4b60-b868-6ac454809f35",
   "metadata": {},
   "outputs": [],
   "source": []
  },
  {
   "cell_type": "code",
   "execution_count": null,
   "id": "76868894-8825-475e-bd56-94b8faffbbbe",
   "metadata": {},
   "outputs": [],
   "source": []
  },
  {
   "cell_type": "code",
   "execution_count": null,
   "id": "da37af89-825f-4b60-b3ac-1ebddb585245",
   "metadata": {},
   "outputs": [],
   "source": []
  },
  {
   "cell_type": "code",
   "execution_count": null,
   "id": "c447ebca-bbb6-4e2b-a87a-6607c8497499",
   "metadata": {},
   "outputs": [],
   "source": []
  },
  {
   "cell_type": "code",
   "execution_count": null,
   "id": "b8828cbd-b3fc-4830-a27c-1533b601dd24",
   "metadata": {},
   "outputs": [],
   "source": []
  },
  {
   "cell_type": "code",
   "execution_count": null,
   "id": "35e26afe-2748-4f4c-abfc-5a952c92b160",
   "metadata": {},
   "outputs": [],
   "source": []
  },
  {
   "cell_type": "code",
   "execution_count": null,
   "id": "316f9bb8-be73-4ed2-978f-96c230f3e65d",
   "metadata": {},
   "outputs": [],
   "source": []
  },
  {
   "cell_type": "code",
   "execution_count": null,
   "id": "9d39710e-bc6f-49c8-97b0-e8a899ba28cb",
   "metadata": {},
   "outputs": [],
   "source": []
  },
  {
   "cell_type": "code",
   "execution_count": null,
   "id": "076dbb9f-6464-4ce5-b647-e41e5301a496",
   "metadata": {},
   "outputs": [],
   "source": []
  },
  {
   "cell_type": "code",
   "execution_count": null,
   "id": "93cd8fce-e7d7-45b3-be6e-3bf7aeb4eb42",
   "metadata": {},
   "outputs": [],
   "source": []
  }
 ],
 "metadata": {
  "kernelspec": {
   "display_name": "Python 3 (ipykernel)",
   "language": "python",
   "name": "python3"
  },
  "language_info": {
   "codemirror_mode": {
    "name": "ipython",
    "version": 3
   },
   "file_extension": ".py",
   "mimetype": "text/x-python",
   "name": "python",
   "nbconvert_exporter": "python",
   "pygments_lexer": "ipython3",
   "version": "3.10.4"
  }
 },
 "nbformat": 4,
 "nbformat_minor": 5
}
